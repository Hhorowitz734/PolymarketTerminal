{
 "cells": [
  {
   "cell_type": "markdown",
   "id": "a90a3d77-756e-411b-ac5d-106b26e85c96",
   "metadata": {},
   "source": [
    "# Goal: Connect to the CLOB API"
   ]
  },
  {
   "cell_type": "code",
   "execution_count": 22,
   "id": "6da67bca-fcaf-497f-aab3-92cf34a8ffe3",
   "metadata": {},
   "outputs": [],
   "source": [
    "from py_clob_client.client import ClobClient\n",
    "from py_clob_client.clob_types import ApiCreds\n",
    "from py_clob_client.constants import POLYGON\n",
    "from dotenv import load_dotenv, set_key\n",
    "import os"
   ]
  },
  {
   "cell_type": "code",
   "execution_count": 37,
   "id": "0a8ddd2b-a34f-4323-a1a7-29e1d7e317f4",
   "metadata": {},
   "outputs": [],
   "source": [
    "env_path = '.env'\n",
    "load_dotenv(env_path)\n",
    "\n",
    "host: str = os.getenv('HOST')\n",
    "key: str = os.getenv('PK') #Private key to wallet\n",
    "pbk: str = os.getenv('PBL')\n",
    "chain_id: int = 137\n",
    "\n",
    "### Initialization of a client using a Polymarket Proxy associated with a Browser Wallet(Metamask, Coinbase Wallet, etc)\n",
    "client = ClobClient(host, key=key, chain_id=chain_id, signature_type=2, funder=pbk)"
   ]
  },
  {
   "cell_type": "code",
   "execution_count": 39,
   "id": "4bc6b952-9d9a-4464-84de-2df290d21c06",
   "metadata": {},
   "outputs": [],
   "source": [
    "\n",
    "#api_credentials = client.derive_api_key()\n",
    "\n",
    "\n",
    "#env_path = '.env'\n",
    "#load_dotenv(env_path)\n",
    "\n",
    "#set_key(env_path, 'CLOB_API_KEY', api_credentials.api_key)\n",
    "#set_key(env_path, 'CLOB_SECRET', api_credentials.api_secret)\n",
    "#set_key(env_path, 'CLOB_PASS_PHRASE', api_credentials.api_passphrase)\n"
   ]
  },
  {
   "cell_type": "code",
   "execution_count": null,
   "id": "ff4b2181-5bb1-438e-8830-68aa298f514b",
   "metadata": {},
   "outputs": [],
   "source": []
  }
 ],
 "metadata": {
  "kernelspec": {
   "display_name": "Python (polyenv)",
   "language": "python",
   "name": "polyenv"
  },
  "language_info": {
   "codemirror_mode": {
    "name": "ipython",
    "version": 3
   },
   "file_extension": ".py",
   "mimetype": "text/x-python",
   "name": "python",
   "nbconvert_exporter": "python",
   "pygments_lexer": "ipython3",
   "version": "3.13.2"
  }
 },
 "nbformat": 4,
 "nbformat_minor": 5
}
